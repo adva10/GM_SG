{
 "cells": [
  {
   "cell_type": "code",
   "execution_count": 1,
   "metadata": {
    "collapsed": true
   },
   "outputs": [],
   "source": [
    "import glob\n",
    "import numpy as np\n",
    "import re\n",
    "import pandas as pd\n",
    "import seaborn as sns\n",
    "import matplotlib.pyplot as plt\n",
    "from matplotlib.ticker import ScalarFormatter, FormatStrFormatter\n",
    "%matplotlib inline\n",
    "from matplotlib.font_manager import FontProperties\n",
    "#from plotnine import *"
   ]
  },
  {
   "cell_type": "code",
   "execution_count": 2,
   "metadata": {
    "collapsed": true
   },
   "outputs": [],
   "source": [
    "names = glob.glob(\"/home/roi/GM_SG/results/exp2/*\")"
   ]
  },
  {
   "cell_type": "code",
   "execution_count": 3,
   "metadata": {},
   "outputs": [
    {
     "data": {
      "text/plain": [
       "['/home/roi/GM_SG/results/exp2/mean0.1var0.5.csv',\n",
       " '/home/roi/GM_SG/results/exp2/mean0.01var0.5.csv',\n",
       " '/home/roi/GM_SG/results/exp2/mean0.03162277660168379var0.5.csv',\n",
       " '/home/roi/GM_SG/results/exp2/mean1.0var0.5.csv',\n",
       " '/home/roi/GM_SG/results/exp2/mean0.31622776601683794var0.5.csv']"
      ]
     },
     "execution_count": 3,
     "metadata": {},
     "output_type": "execute_result"
    }
   ],
   "source": [
    "names = names[1:]\n",
    "names"
   ]
  },
  {
   "cell_type": "code",
   "execution_count": 4,
   "metadata": {},
   "outputs": [],
   "source": [
    "for i in range(len(names)):\n",
    "    #\n",
    "    if i == 0:\n",
    "        #\n",
    "        final = pd.read_csv(names[i])\n",
    "        mean = re.findall(\"\\d+\\.\\d+\", names[i])\n",
    "        final[\"Mean\"] = float(mean[0])\n",
    "        #\n",
    "    else:\n",
    "        #\n",
    "        curr = pd.read_csv(names[i])\n",
    "        mean = re.findall(\"\\d+\\.\\d+\", names[i])\n",
    "        curr[\"Mean\"] = float(mean[0])\n",
    "        final = pd.concat([final,curr])\n",
    "        \n",
    "all_means = list(set(final[\"Mean\"]))\n",
    "all_means.sort()"
   ]
  },
  {
   "cell_type": "code",
   "execution_count": 5,
   "metadata": {
    "collapsed": true
   },
   "outputs": [],
   "source": [
    "variables = final.columns\n",
    "variables = variables[1:-1]\n",
    "stds = final.groupby([\"Mean\"], as_index=False)[variables].std()\n",
    "means = final.groupby([\"Mean\"], as_index=False)[variables].mean()"
   ]
  },
  {
   "cell_type": "code",
   "execution_count": 6,
   "metadata": {},
   "outputs": [
    {
     "data": {
      "text/html": [
       "<div>\n",
       "<style scoped>\n",
       "    .dataframe tbody tr th:only-of-type {\n",
       "        vertical-align: middle;\n",
       "    }\n",
       "\n",
       "    .dataframe tbody tr th {\n",
       "        vertical-align: top;\n",
       "    }\n",
       "\n",
       "    .dataframe thead th {\n",
       "        text-align: right;\n",
       "    }\n",
       "</style>\n",
       "<table border=\"1\" class=\"dataframe\">\n",
       "  <thead>\n",
       "    <tr style=\"text-align: right;\">\n",
       "      <th></th>\n",
       "      <th>Mean</th>\n",
       "      <th>raw_cleandata</th>\n",
       "      <th>raw_atdata</th>\n",
       "      <th>nash_rawdata</th>\n",
       "      <th>nash_atdata</th>\n",
       "      <th>bayes_rawdata</th>\n",
       "      <th>bayes_atdata</th>\n",
       "    </tr>\n",
       "  </thead>\n",
       "  <tbody>\n",
       "    <tr>\n",
       "      <th>0</th>\n",
       "      <td>0.100000</td>\n",
       "      <td>0.015237</td>\n",
       "      <td>0.024205</td>\n",
       "      <td>0.015404</td>\n",
       "      <td>0.024357</td>\n",
       "      <td>0.017969</td>\n",
       "      <td>0.025048</td>\n",
       "    </tr>\n",
       "    <tr>\n",
       "      <th>1</th>\n",
       "      <td>0.177828</td>\n",
       "      <td>0.014887</td>\n",
       "      <td>0.021629</td>\n",
       "      <td>0.015074</td>\n",
       "      <td>0.021883</td>\n",
       "      <td>0.019357</td>\n",
       "      <td>0.021257</td>\n",
       "    </tr>\n",
       "    <tr>\n",
       "      <th>2</th>\n",
       "      <td>0.316228</td>\n",
       "      <td>0.009452</td>\n",
       "      <td>0.019251</td>\n",
       "      <td>0.012366</td>\n",
       "      <td>0.017274</td>\n",
       "      <td>0.008238</td>\n",
       "      <td>0.010846</td>\n",
       "    </tr>\n",
       "    <tr>\n",
       "      <th>3</th>\n",
       "      <td>0.562341</td>\n",
       "      <td>0.019542</td>\n",
       "      <td>0.026290</td>\n",
       "      <td>0.031630</td>\n",
       "      <td>0.023449</td>\n",
       "      <td>0.016767</td>\n",
       "      <td>0.018988</td>\n",
       "    </tr>\n",
       "    <tr>\n",
       "      <th>4</th>\n",
       "      <td>1.000000</td>\n",
       "      <td>0.014977</td>\n",
       "      <td>0.045276</td>\n",
       "      <td>0.055237</td>\n",
       "      <td>0.027878</td>\n",
       "      <td>0.012368</td>\n",
       "      <td>0.016734</td>\n",
       "    </tr>\n",
       "  </tbody>\n",
       "</table>\n",
       "</div>"
      ],
      "text/plain": [
       "       Mean  raw_cleandata  raw_atdata  nash_rawdata  nash_atdata  \\\n",
       "0  0.100000       0.015237    0.024205      0.015404     0.024357   \n",
       "1  0.177828       0.014887    0.021629      0.015074     0.021883   \n",
       "2  0.316228       0.009452    0.019251      0.012366     0.017274   \n",
       "3  0.562341       0.019542    0.026290      0.031630     0.023449   \n",
       "4  1.000000       0.014977    0.045276      0.055237     0.027878   \n",
       "\n",
       "   bayes_rawdata  bayes_atdata  \n",
       "0       0.017969      0.025048  \n",
       "1       0.019357      0.021257  \n",
       "2       0.008238      0.010846  \n",
       "3       0.016767      0.018988  \n",
       "4       0.012368      0.016734  "
      ]
     },
     "execution_count": 6,
     "metadata": {},
     "output_type": "execute_result"
    }
   ],
   "source": [
    "stds"
   ]
  },
  {
   "cell_type": "markdown",
   "metadata": {},
   "source": [
    "## RMSE vs Mean of adversary distribution"
   ]
  },
  {
   "cell_type": "code",
   "execution_count": 7,
   "metadata": {},
   "outputs": [
    {
     "data": {
      "image/png": "[encoded data removed]",
      "text/plain": [
       "<Figure size 432x288 with 1 Axes>"
      ]
     },
     "metadata": {},
     "output_type": "display_data"
    }
   ],
   "source": [
    "\n",
    "means1 = means\n",
    "devs1 = stds\n",
    "\n",
    "t = \"RMSE vs Wine Specific Cost. Variance: 0.5\"\n",
    "x = means1[\"Mean\"]\n",
    "#\n",
    "y1 = means1[\"nash_atdata\"]\n",
    "y2 = means1[\"raw_atdata\"]\n",
    "y3 = means1[\"bayes_atdata\"]\n",
    "#\n",
    "y1dev = devs1[\"nash_atdata\"]\n",
    "y2dev = devs1[\"raw_atdata\"]\n",
    "y3dev = devs1[\"bayes_atdata\"]\n",
    "\n",
    "f,ax2 = plt.subplots(1,1,sharex=True, facecolor='w')\n",
    "sns.set_style(\"whitegrid\")\n",
    "# Plot distributions\n",
    "ax2.errorbar(x, y1, yerr=y1dev ,ecolor='black', color = sns.xkcd_rgb[\"black\"], fmt = 'o',linestyle='-',elinewidth=0.9,capsize=5,capthick=0.5)\n",
    "ax2.errorbar(x, y2, yerr=y2dev ,ecolor='black', color = sns.xkcd_rgb[\"black\"], fmt = 'o', linestyle='--',elinewidth=0.9,capsize=5,capthick=0.5)\n",
    "ax2.errorbar(x, y3, yerr=y3dev ,ecolor='black', color = sns.xkcd_rgb[\"black\"], fmt = 'o', linestyle=':',elinewidth=0.9,capsize=5,capthick=0.5)\n",
    "# Create the legend box\n",
    "box = ax2.get_position()\n",
    "ax2.set_position([box.x0, box.y0, box.width * 0.8, box.height])\n",
    "# Add legend and labels\n",
    "ax2.legend(labels=[\"Nash\", \"Raw\", \"Bayes\"],loc='upper right', bbox_to_anchor=(0,0.97,1,0.2), prop={'size': 14})\n",
    "ax2.set(xlabel=\"Wine Specific Cost\")\n",
    "ax2.set_ylabel(\"RMSE\")\n",
    "# Set size of title and x,y labels\n",
    "plt.gcf().autofmt_xdate()\n",
    "ax2.tick_params(labelsize=14)\n",
    "f.suptitle(t,x=0.5, y=0.93, fontsize=20)\n",
    "ax2.xaxis.label.set_size(20)\n",
    "ax2.yaxis.label.set_size(20)\n",
    "plt.rcParams[\"figure.figsize\"] = (12,9)\n",
    "\n",
    "#plt.savefig(\"/home/roi/GM_SG/figs/rmse_vs_cw.eps\", format='eps', dpi=600)\n",
    "\n",
    "    \n"
   ]
  },
  {
   "cell_type": "markdown",
   "metadata": {},
   "source": [
    "# Time histogram"
   ]
  },
  {
   "cell_type": "code",
   "execution_count": 23,
   "metadata": {},
   "outputs": [
    {
     "data": {
      "text/plain": [
       "<matplotlib.axes._subplots.AxesSubplot at 0x7f9f32cef4e0>"
      ]
     },
     "execution_count": 23,
     "metadata": {},
     "output_type": "execute_result"
    },
    {
     "data": {
      "image/png": "[encoded data removed]",
      "text/plain": [
       "<Figure size 864x648 with 1 Axes>"
      ]
     },
     "metadata": {},
     "output_type": "display_data"
    }
   ],
   "source": [
    "time_nash = pd.read_csv(\"/home/roi/GM_SG/results/time_nash.log\", header=None)\n",
    "time_nash.columns = [\"Time Backward Solution\"]\n",
    "time_nash.plot.hist(bins=30)"
   ]
  },
  {
   "cell_type": "code",
   "execution_count": 24,
   "metadata": {},
   "outputs": [
    {
     "name": "stdout",
     "output_type": "stream",
     "text": [
      "Time Backward Solution    131.550384\n",
      "dtype: float64\n",
      "Time Backward Solution    2.663957\n",
      "dtype: float64\n"
     ]
    }
   ],
   "source": [
    "print(time_nash.mean())\n",
    "print(time_nash.std())"
   ]
  },
  {
   "cell_type": "code",
   "execution_count": 25,
   "metadata": {
    "scrolled": true
   },
   "outputs": [
    {
     "data": {
      "image/png": "[encoded data removed]",
      "text/plain": [
       "<Figure size 640x480 with 1 Axes>"
      ]
     },
     "metadata": {},
     "output_type": "display_data"
    },
    {
     "data": {
      "text/plain": [
       "<ggplot: (8770107982344)>"
      ]
     },
     "execution_count": 25,
     "metadata": {},
     "output_type": "execute_result"
    }
   ],
   "source": [
    "p = ggplot(data = time_nash) + geom_histogram(aes(x=\"Time Backward Solution\"), bins = 30)\n",
    "p = p + ylab(\"Count\")\n",
    "p"
   ]
  }
 ],
 "metadata": {
  "kernelspec": {
   "display_name": "Python 3",
   "language": "python",
   "name": "python3"
  },
  "language_info": {
   "codemirror_mode": {
    "name": "ipython",
    "version": 3
   },
   "file_extension": ".py",
   "mimetype": "text/x-python",
   "name": "python",
   "nbconvert_exporter": "python",
   "pygments_lexer": "ipython3",
   "version": "3.6.3"
  }
 },
 "nbformat": 4,
 "nbformat_minor": 2
}
