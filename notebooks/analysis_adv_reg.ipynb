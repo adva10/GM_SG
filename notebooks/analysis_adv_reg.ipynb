{
 "cells": [
  {
   "cell_type": "code",
   "execution_count": 16,
   "metadata": {
    "collapsed": true
   },
   "outputs": [],
   "source": [
    "import glob\n",
    "import numpy as np\n",
    "import re\n",
    "import pandas as pd\n",
    "import seaborn as sns\n",
    "import matplotlib.pyplot as plt\n",
    "from matplotlib.ticker import ScalarFormatter, FormatStrFormatter\n",
    "%matplotlib inline\n",
    "from matplotlib.font_manager import FontProperties\n",
    "from plotnine import *"
   ]
  },
  {
   "cell_type": "code",
   "execution_count": 17,
   "metadata": {
    "collapsed": true
   },
   "outputs": [],
   "source": [
    "names = glob.glob(\"/home/roi/GM_SG/results/exp1/*\")"
   ]
  },
  {
   "cell_type": "code",
   "execution_count": 18,
   "metadata": {},
   "outputs": [],
   "source": [
    "for i in range(len(names)):\n",
    "    #\n",
    "    if i == 0:\n",
    "        #\n",
    "        final = pd.read_csv(names[i])\n",
    "        mean = re.findall(\"\\d+\\.\\d+\", names[i])\n",
    "        final[\"Mean\"] = float(mean[0])\n",
    "        #\n",
    "    else:\n",
    "        #\n",
    "        curr = pd.read_csv(names[i])\n",
    "        mean = re.findall(\"\\d+\\.\\d+\", names[i])\n",
    "        curr[\"Mean\"] = float(mean[0])\n",
    "        final = pd.concat([final,curr])\n",
    "        \n",
    "all_means = list(set(final[\"Mean\"]))\n",
    "all_means.sort()"
   ]
  },
  {
   "cell_type": "code",
   "execution_count": 19,
   "metadata": {
    "collapsed": true
   },
   "outputs": [],
   "source": [
    "variables = final.columns\n",
    "variables = variables[1:-1]\n",
    "stds = final.groupby([\"Mean\"], as_index=False)[variables].std()\n",
    "means = final.groupby([\"Mean\"], as_index=False)[variables].mean()"
   ]
  },
  {
   "cell_type": "code",
   "execution_count": 20,
   "metadata": {},
   "outputs": [
    {
     "data": {
      "text/html": [
       "<div>\n",
       "<style scoped>\n",
       "    .dataframe tbody tr th:only-of-type {\n",
       "        vertical-align: middle;\n",
       "    }\n",
       "\n",
       "    .dataframe tbody tr th {\n",
       "        vertical-align: top;\n",
       "    }\n",
       "\n",
       "    .dataframe thead th {\n",
       "        text-align: right;\n",
       "    }\n",
       "</style>\n",
       "<table border=\"1\" class=\"dataframe\">\n",
       "  <thead>\n",
       "    <tr style=\"text-align: right;\">\n",
       "      <th></th>\n",
       "      <th>raw_cleandata</th>\n",
       "      <th>raw_atdata</th>\n",
       "      <th>nash_rawdata</th>\n",
       "      <th>nash_atdata</th>\n",
       "    </tr>\n",
       "    <tr>\n",
       "      <th>Mean</th>\n",
       "      <th></th>\n",
       "      <th></th>\n",
       "      <th></th>\n",
       "      <th></th>\n",
       "    </tr>\n",
       "  </thead>\n",
       "  <tbody>\n",
       "    <tr>\n",
       "      <th>0.010000</th>\n",
       "      <td>0.750711</td>\n",
       "      <td>0.750935</td>\n",
       "      <td>0.750706</td>\n",
       "      <td>0.750711</td>\n",
       "    </tr>\n",
       "    <tr>\n",
       "      <th>0.016681</th>\n",
       "      <td>0.746955</td>\n",
       "      <td>0.747822</td>\n",
       "      <td>0.746735</td>\n",
       "      <td>0.746955</td>\n",
       "    </tr>\n",
       "    <tr>\n",
       "      <th>0.027826</th>\n",
       "      <td>0.756791</td>\n",
       "      <td>0.757651</td>\n",
       "      <td>0.757728</td>\n",
       "      <td>0.756791</td>\n",
       "    </tr>\n",
       "    <tr>\n",
       "      <th>0.046416</th>\n",
       "      <td>0.756958</td>\n",
       "      <td>0.759844</td>\n",
       "      <td>0.759013</td>\n",
       "      <td>0.756958</td>\n",
       "    </tr>\n",
       "    <tr>\n",
       "      <th>0.077426</th>\n",
       "      <td>0.755980</td>\n",
       "      <td>0.763221</td>\n",
       "      <td>0.762601</td>\n",
       "      <td>0.755980</td>\n",
       "    </tr>\n",
       "    <tr>\n",
       "      <th>0.129155</th>\n",
       "      <td>0.765716</td>\n",
       "      <td>0.783409</td>\n",
       "      <td>0.787432</td>\n",
       "      <td>0.765716</td>\n",
       "    </tr>\n",
       "    <tr>\n",
       "      <th>0.215443</th>\n",
       "      <td>0.758558</td>\n",
       "      <td>0.805883</td>\n",
       "      <td>0.817273</td>\n",
       "      <td>0.758538</td>\n",
       "    </tr>\n",
       "    <tr>\n",
       "      <th>0.359381</th>\n",
       "      <td>0.754084</td>\n",
       "      <td>0.873840</td>\n",
       "      <td>0.908919</td>\n",
       "      <td>0.754099</td>\n",
       "    </tr>\n",
       "    <tr>\n",
       "      <th>0.599484</th>\n",
       "      <td>0.758434</td>\n",
       "      <td>1.031167</td>\n",
       "      <td>1.022871</td>\n",
       "      <td>0.760787</td>\n",
       "    </tr>\n",
       "    <tr>\n",
       "      <th>1.000000</th>\n",
       "      <td>0.756958</td>\n",
       "      <td>1.313164</td>\n",
       "      <td>1.063903</td>\n",
       "      <td>0.770684</td>\n",
       "    </tr>\n",
       "  </tbody>\n",
       "</table>\n",
       "</div>"
      ],
      "text/plain": [
       "          raw_cleandata  raw_atdata  nash_rawdata  nash_atdata\n",
       "Mean                                                          \n",
       "0.010000       0.750711    0.750935      0.750706     0.750711\n",
       "0.016681       0.746955    0.747822      0.746735     0.746955\n",
       "0.027826       0.756791    0.757651      0.757728     0.756791\n",
       "0.046416       0.756958    0.759844      0.759013     0.756958\n",
       "0.077426       0.755980    0.763221      0.762601     0.755980\n",
       "0.129155       0.765716    0.783409      0.787432     0.765716\n",
       "0.215443       0.758558    0.805883      0.817273     0.758538\n",
       "0.359381       0.754084    0.873840      0.908919     0.754099\n",
       "0.599484       0.758434    1.031167      1.022871     0.760787\n",
       "1.000000       0.756958    1.313164      1.063903     0.770684"
      ]
     },
     "execution_count": 20,
     "metadata": {},
     "output_type": "execute_result"
    }
   ],
   "source": [
    "final.groupby([\"Mean\"])[variables].mean()"
   ]
  },
  {
   "cell_type": "markdown",
   "metadata": {},
   "source": [
    "## RMSE vs Mean of adversary distribution"
   ]
  },
  {
   "cell_type": "code",
   "execution_count": 21,
   "metadata": {},
   "outputs": [
    {
     "data": {
      "image/png": "[encoded data removed]",
      "text/plain": [
       "<Figure size 432x288 with 1 Axes>"
      ]
     },
     "metadata": {},
     "output_type": "display_data"
    }
   ],
   "source": [
    "\n",
    "means1 = means\n",
    "devs1 = stds\n",
    "\n",
    "t = \"RMSE vs Wine Specific Cost\"\n",
    "x = means1[\"Mean\"]\n",
    "#\n",
    "y1 = means1[\"nash_atdata\"]\n",
    "y2 = means1[\"raw_atdata\"]\n",
    "#\n",
    "y1dev = devs1[\"nash_atdata\"]\n",
    "y2dev = devs1[\"raw_atdata\"]\n",
    "\n",
    "f,ax2 = plt.subplots(1,1,sharex=True, facecolor='w')\n",
    "sns.set_style(\"whitegrid\")\n",
    "# Plot distributions\n",
    "ax2.errorbar(x, y1, yerr=y1dev ,ecolor='black', color = sns.xkcd_rgb[\"black\"], fmt = 'o',linestyle='-',elinewidth=0.9,capsize=5,capthick=0.5)\n",
    "ax2.errorbar(x, y2, yerr=y2dev ,ecolor='black', color = sns.xkcd_rgb[\"black\"], fmt = 'o', linestyle='--',elinewidth=0.9,capsize=5,capthick=0.5)\n",
    "# Create the legend box\n",
    "box = ax2.get_position()\n",
    "ax2.set_position([box.x0, box.y0, box.width * 0.8, box.height])\n",
    "# Add legend and labels\n",
    "ax2.legend(labels=[\"Nash\", \"Raw\"],loc='upper right', bbox_to_anchor=(0,0.97,1,0.2), prop={'size': 14})\n",
    "ax2.set(xlabel=\"Wine Specific Cost\")\n",
    "ax2.set_ylabel(\"RMSE\")\n",
    "# Set size of title and x,y labels\n",
    "plt.gcf().autofmt_xdate()\n",
    "ax2.tick_params(labelsize=14)\n",
    "f.suptitle(t,x=0.5, y=0.93, fontsize=20)\n",
    "ax2.xaxis.label.set_size(20)\n",
    "ax2.yaxis.label.set_size(20)\n",
    "plt.rcParams[\"figure.figsize\"] = (12,9)\n",
    "\n",
    "plt.savefig(\"/home/roi/GM_SG/figs/rmse_vs_cw.eps\", format='eps', dpi=600)\n",
    "\n",
    "    \n"
   ]
  },
  {
   "cell_type": "markdown",
   "metadata": {},
   "source": [
    "# Time histogram"
   ]
  },
  {
   "cell_type": "code",
   "execution_count": 23,
   "metadata": {},
   "outputs": [
    {
     "data": {
      "text/plain": [
       "<matplotlib.axes._subplots.AxesSubplot at 0x7f9f32cef4e0>"
      ]
     },
     "execution_count": 23,
     "metadata": {},
     "output_type": "execute_result"
    },
    {
     "data": {
      "image/png": "[encoded data removed]",
      "text/plain": [
       "<Figure size 864x648 with 1 Axes>"
      ]
     },
     "metadata": {},
     "output_type": "display_data"
    }
   ],
   "source": [
    "time_nash = pd.read_csv(\"/home/roi/GM_SG/results/time_nash.log\", header=None)\n",
    "time_nash.columns = [\"Time Backward Solution\"]\n",
    "time_nash.plot.hist(bins=30)"
   ]
  },
  {
   "cell_type": "code",
   "execution_count": 24,
   "metadata": {},
   "outputs": [
    {
     "name": "stdout",
     "output_type": "stream",
     "text": [
      "Time Backward Solution    131.550384\n",
      "dtype: float64\n",
      "Time Backward Solution    2.663957\n",
      "dtype: float64\n"
     ]
    }
   ],
   "source": [
    "print(time_nash.mean())\n",
    "print(time_nash.std())"
   ]
  },
  {
   "cell_type": "code",
   "execution_count": 25,
   "metadata": {
    "scrolled": true
   },
   "outputs": [
    {
     "data": {
      "image/png": "[encoded data removed]",
      "text/plain": [
       "<Figure size 640x480 with 1 Axes>"
      ]
     },
     "metadata": {},
     "output_type": "display_data"
    },
    {
     "data": {
      "text/plain": [
       "<ggplot: (8770107982344)>"
      ]
     },
     "execution_count": 25,
     "metadata": {},
     "output_type": "execute_result"
    }
   ],
   "source": [
    "p = ggplot(data = time_nash) + geom_histogram(aes(x=\"Time Backward Solution\"), bins = 30)\n",
    "p = p + ylab(\"Count\")\n",
    "p"
   ]
  }
 ],
 "metadata": {
  "kernelspec": {
   "display_name": "Python 3",
   "language": "python",
   "name": "python3"
  },
  "language_info": {
   "codemirror_mode": {
    "name": "ipython",
    "version": 3
   },
   "file_extension": ".py",
   "mimetype": "text/x-python",
   "name": "python",
   "nbconvert_exporter": "python",
   "pygments_lexer": "ipython3",
   "version": "3.6.3"
  }
 },
 "nbformat": 4,
 "nbformat_minor": 2
}
