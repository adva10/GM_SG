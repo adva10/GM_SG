{
 "cells": [
  {
   "cell_type": "code",
   "execution_count": 29,
   "metadata": {
    "collapsed": true
   },
   "outputs": [],
   "source": [
    "from mpl_toolkits.mplot3d import Axes3D\n",
    "import matplotlib.pyplot as plt\n",
    "from matplotlib import cm\n",
    "from matplotlib.ticker import LinearLocator, FormatStrFormatter\n",
    "import numpy as np\n",
    "import torch\n",
    "import torch.nn as nn\n",
    "from torch.autograd import Variable\n",
    "from torch.autograd import grad\n",
    "import seaborn as sns\n",
    "import pandas as pd"
   ]
  },
  {
   "cell_type": "code",
   "execution_count": 5,
   "metadata": {
    "collapsed": true
   },
   "outputs": [],
   "source": [
    "def fm(x,y):\n",
    "    return torch.sum(7*x) + torch.sum(y**2)"
   ]
  },
  {
   "cell_type": "code",
   "execution_count": 6,
   "metadata": {
    "collapsed": true
   },
   "outputs": [],
   "source": [
    "def gm(x,y):\n",
    "    return torch.sum( 3*(y - x)**2 )"
   ]
  },
  {
   "cell_type": "code",
   "execution_count": 7,
   "metadata": {
    "collapsed": true
   },
   "outputs": [],
   "source": [
    "ilr = 0.1\n",
    "x = Variable(torch.Tensor([7.0, 4.0]), requires_grad=True)\n",
    "y = Variable(torch.Tensor([20, 30]), requires_grad=True)\n",
    "for i in range(100):\n",
    "    grad_y = torch.autograd.grad(gm(x,y), y, create_graph=True)[0]\n",
    "    new_y = y - ilr*grad_y\n",
    "    y = Variable(new_y, requires_grad=True)"
   ]
  },
  {
   "cell_type": "markdown",
   "metadata": {},
   "source": [
    "## Forward mode"
   ]
  },
  {
   "cell_type": "code",
   "execution_count": 94,
   "metadata": {
    "collapsed": true
   },
   "outputs": [],
   "source": [
    "def compute_full_second_derivative(vec_func, var):\n",
    "    tmp = torch.zeros(vec_func.shape[0], vec_func.shape[0])\n",
    "    for i, loss in enumerate(vec_func):\n",
    "        tmp[:,i] = torch.autograd.grad(loss, var, retain_graph=True)[0]\n",
    "    return tmp"
   ]
  },
  {
   "cell_type": "code",
   "execution_count": 149,
   "metadata": {
    "collapsed": true
   },
   "outputs": [],
   "source": [
    "def do_forward_multidim(dim, T):\n",
    "    lr = 0.1 # Outer learning rate\n",
    "    ilr = 0.1 # Inner learning rate\n",
    "    x = Variable(torch.randn(dim), requires_grad=True)\n",
    "    y = Variable(torch.randn(dim), requires_grad=True)\n",
    "    ##\n",
    "    Z = torch.zeros(x.shape[0], y.shape[0]) \n",
    "\n",
    "    for i in range(T):\n",
    "        # We nee to compute the total derivative of f wrt x\n",
    "        #y = 0.0\n",
    "\n",
    "        for j in range(T):\n",
    "            grad_y = torch.autograd.grad(gm(x,y), y, create_graph=True)[0]\n",
    "            new_y = y - ilr*grad_y\n",
    "            ##\n",
    "            A_tensor = compute_full_second_derivative(new_y, x)\n",
    "            B_tensor = compute_full_second_derivative(new_y, y)\n",
    "            ##\n",
    "            Z = Z @ A_tensor + B_tensor\n",
    "            y = Variable(new_y, requires_grad=True)\n",
    "\n",
    "        grad_x = torch.autograd.grad(fm(x,y), x, retain_graph=True)[0] \n",
    "        grad_y = torch.autograd.grad(fm(x,y), y)[0]\n",
    "        ##\n",
    "        x = x - lr*(grad_x + Z @ grad_y)\n",
    "    return(x)\n",
    "        "
   ]
  },
  {
   "cell_type": "code",
   "execution_count": 150,
   "metadata": {},
   "outputs": [
    {
     "data": {
      "text/plain": [
       "tensor([-3.4993])"
      ]
     },
     "execution_count": 150,
     "metadata": {},
     "output_type": "execute_result"
    }
   ],
   "source": [
    "do_forward_multidim(1, 40)"
   ]
  },
  {
   "cell_type": "code",
   "execution_count": 152,
   "metadata": {},
   "outputs": [
    {
     "name": "stdout",
     "output_type": "stream",
     "text": [
      "597 ms ± 56.6 ms per loop (mean ± std. dev. of 7 runs, 1 loop each)\n"
     ]
    }
   ],
   "source": [
    "result = %timeit -o do_forward_multidim(1, 40)"
   ]
  },
  {
   "cell_type": "code",
   "execution_count": 21,
   "metadata": {},
   "outputs": [
    {
     "name": "stdout",
     "output_type": "stream",
     "text": [
      "938 ms ± 70.3 ms per loop (mean ± std. dev. of 7 runs, 1 loop each)\n",
      "1.39 s ± 195 ms per loop (mean ± std. dev. of 7 runs, 1 loop each)\n",
      "2.59 s ± 245 ms per loop (mean ± std. dev. of 7 runs, 1 loop each)\n",
      "5.24 s ± 362 ms per loop (mean ± std. dev. of 7 runs, 1 loop each)\n",
      "23.5 s ± 728 ms per loop (mean ± std. dev. of 7 runs, 1 loop each)\n",
      "1min 8s ± 1.44 s per loop (mean ± std. dev. of 7 runs, 1 loop each)\n",
      "4min 14s ± 1min 22s per loop (mean ± std. dev. of 7 runs, 1 loop each)\n"
     ]
    }
   ],
   "source": [
    "dimensions = np.array([1,2,5,10,50,100,500])\n",
    "time_fw = np.zeros(len(dimensions))\n",
    "sd_fw = np.zeros(len(dimensions))\n",
    "##\n",
    "for i, d in enumerate(dimensions):\n",
    "    result = %timeit -o do_forward_multidim(int(d), 40)\n",
    "    ts = result.average\n",
    "    sd = result.stdev\n",
    "    time_fw[i] = ts\n",
    "    sd_fw[i] = sd"
   ]
  },
  {
   "cell_type": "code",
   "execution_count": 943,
   "metadata": {},
   "outputs": [
    {
     "data": {
      "text/plain": [
       "Text(0.5, 1.0, 'Forward Mode')"
      ]
     },
     "execution_count": 943,
     "metadata": {},
     "output_type": "execute_result"
    },
    {
     "data": {
      "image/png": "[encoded data removed]",
      "text/plain": [
       "<Figure size 432x288 with 1 Axes>"
      ]
     },
     "metadata": {},
     "output_type": "display_data"
    }
   ],
   "source": [
    "plt.plot(dimensions,time_fw)\n",
    "plt.xlabel(\"Number of dimensions\")\n",
    "plt.ylabel(\"Time(ms)\")\n",
    "plt.title(\"Forward Mode\")"
   ]
  },
  {
   "cell_type": "markdown",
   "metadata": {},
   "source": [
    "## Backward mode"
   ]
  },
  {
   "cell_type": "code",
   "execution_count": 26,
   "metadata": {
    "collapsed": true
   },
   "outputs": [],
   "source": [
    "def do_backward_multidim(dim, T):\n",
    "    lr = 0.1 # Outer learning rate\n",
    "    ilr = 0.1 # Inner learning rate\n",
    "    x = Variable(torch.randn(dim), requires_grad=True)\n",
    "    y = Variable(torch.randn(dim), requires_grad=True)\n",
    "    ##\n",
    "    yt = torch.zeros(T, y.shape[0])\n",
    "\n",
    "    for i in range(T):\n",
    "        # We nee to compute the total derivative of f wrt x\n",
    "        ##    \n",
    "        for j in range(T):\n",
    "            grad_y = torch.autograd.grad(gm(x,y), y, create_graph=True)[0]\n",
    "            new_y = y - ilr*grad_y\n",
    "            y = Variable(new_y, requires_grad=True)\n",
    "            yt[j] = y\n",
    "        ###\n",
    "        alpha = -torch.autograd.grad(fm(x,y), y, retain_graph=True)[0]\n",
    "        gr = torch.zeros_like(alpha)\n",
    "        ###\n",
    "        for j in range(T-1,-1,-1):\n",
    "            y_tmp = Variable(yt[j], requires_grad=True)\n",
    "            grad_y, = torch.autograd.grad( gm(x,y_tmp), y_tmp, create_graph=True )\n",
    "            loss = y_tmp - ilr*grad_y\n",
    "            loss = loss@alpha\n",
    "            aux1 = torch.autograd.grad(loss, x, retain_graph=True)[0]\n",
    "            aux2 = torch.autograd.grad(loss, y_tmp)[0]\n",
    "            gr -= aux1\n",
    "            alpha =aux2 \n",
    "\n",
    "        grad_x = torch.autograd.grad(fm(x,y), x)[0] \n",
    "        ##\n",
    "        x = x - lr*(grad_x + gr)"
   ]
  },
  {
   "cell_type": "code",
   "execution_count": 27,
   "metadata": {},
   "outputs": [
    {
     "name": "stdout",
     "output_type": "stream",
     "text": [
      "738 ms ± 65.6 ms per loop (mean ± std. dev. of 7 runs, 1 loop each)\n",
      "735 ms ± 138 ms per loop (mean ± std. dev. of 7 runs, 1 loop each)\n",
      "769 ms ± 132 ms per loop (mean ± std. dev. of 7 runs, 1 loop each)\n",
      "870 ms ± 90.5 ms per loop (mean ± std. dev. of 7 runs, 1 loop each)\n",
      "830 ms ± 88.4 ms per loop (mean ± std. dev. of 7 runs, 1 loop each)\n",
      "769 ms ± 78 ms per loop (mean ± std. dev. of 7 runs, 1 loop each)\n",
      "826 ms ± 143 ms per loop (mean ± std. dev. of 7 runs, 1 loop each)\n"
     ]
    }
   ],
   "source": [
    "dimensions = np.array([1,2,5,10,50,100,500])\n",
    "time_bw = np.zeros(len(dimensions))\n",
    "sd_bw = np.zeros(len(dimensions))\n",
    "##\n",
    "for i, d in enumerate(dimensions):\n",
    "    result = %timeit -o do_backward_multidim(int(d), 40)\n",
    "    ts = result.average\n",
    "    time_bw[i] = ts\n",
    "    sd = result.stdev\n",
    "    sd_bw[i] = sd"
   ]
  },
  {
   "cell_type": "code",
   "execution_count": 154,
   "metadata": {},
   "outputs": [
    {
     "data": {
      "text/html": [
       "<div>\n",
       "<style scoped>\n",
       "    .dataframe tbody tr th:only-of-type {\n",
       "        vertical-align: middle;\n",
       "    }\n",
       "\n",
       "    .dataframe tbody tr th {\n",
       "        vertical-align: top;\n",
       "    }\n",
       "\n",
       "    .dataframe thead th {\n",
       "        text-align: right;\n",
       "    }\n",
       "</style>\n",
       "<table border=\"1\" class=\"dataframe\">\n",
       "  <thead>\n",
       "    <tr style=\"text-align: right;\">\n",
       "      <th></th>\n",
       "      <th>Time_Forward</th>\n",
       "      <th>Std_Forward</th>\n",
       "      <th>Time_Backward</th>\n",
       "      <th>Std_Backward</th>\n",
       "      <th>N</th>\n",
       "    </tr>\n",
       "  </thead>\n",
       "  <tbody>\n",
       "    <tr>\n",
       "      <th>0</th>\n",
       "      <td>0.938118</td>\n",
       "      <td>0.070265</td>\n",
       "      <td>0.737736</td>\n",
       "      <td>0.065581</td>\n",
       "      <td>1</td>\n",
       "    </tr>\n",
       "    <tr>\n",
       "      <th>1</th>\n",
       "      <td>1.388932</td>\n",
       "      <td>0.195490</td>\n",
       "      <td>0.735050</td>\n",
       "      <td>0.137592</td>\n",
       "      <td>2</td>\n",
       "    </tr>\n",
       "    <tr>\n",
       "      <th>2</th>\n",
       "      <td>2.589588</td>\n",
       "      <td>0.245338</td>\n",
       "      <td>0.768834</td>\n",
       "      <td>0.131820</td>\n",
       "      <td>5</td>\n",
       "    </tr>\n",
       "    <tr>\n",
       "      <th>3</th>\n",
       "      <td>5.236286</td>\n",
       "      <td>0.362323</td>\n",
       "      <td>0.870149</td>\n",
       "      <td>0.090468</td>\n",
       "      <td>10</td>\n",
       "    </tr>\n",
       "    <tr>\n",
       "      <th>4</th>\n",
       "      <td>23.466005</td>\n",
       "      <td>0.728319</td>\n",
       "      <td>0.829966</td>\n",
       "      <td>0.088423</td>\n",
       "      <td>50</td>\n",
       "    </tr>\n",
       "  </tbody>\n",
       "</table>\n",
       "</div>"
      ],
      "text/plain": [
       "   Time_Forward  Std_Forward  Time_Backward  Std_Backward   N\n",
       "0      0.938118     0.070265       0.737736      0.065581   1\n",
       "1      1.388932     0.195490       0.735050      0.137592   2\n",
       "2      2.589588     0.245338       0.768834      0.131820   5\n",
       "3      5.236286     0.362323       0.870149      0.090468  10\n",
       "4     23.466005     0.728319       0.829966      0.088423  50"
      ]
     },
     "execution_count": 154,
     "metadata": {},
     "output_type": "execute_result"
    }
   ],
   "source": [
    "data = pd.DataFrame({\"Time_Forward\":time_fw, \"Std_Forward\":sd_fw,\n",
    "                     \"Time_Backward\": time_bw, \"Std_Backward\": sd_bw,\n",
    "                    \"N\": dimensions})\n",
    "\n",
    "data.head()"
   ]
  },
  {
   "cell_type": "code",
   "execution_count": 183,
   "metadata": {},
   "outputs": [
    {
     "data": {
      "text/html": [
       "<div>\n",
       "<style scoped>\n",
       "    .dataframe tbody tr th:only-of-type {\n",
       "        vertical-align: middle;\n",
       "    }\n",
       "\n",
       "    .dataframe tbody tr th {\n",
       "        vertical-align: top;\n",
       "    }\n",
       "\n",
       "    .dataframe thead th {\n",
       "        text-align: right;\n",
       "    }\n",
       "</style>\n",
       "<table border=\"1\" class=\"dataframe\">\n",
       "  <thead>\n",
       "    <tr style=\"text-align: right;\">\n",
       "      <th>Qty</th>\n",
       "      <th>N</th>\n",
       "      <th>Type</th>\n",
       "      <th>Std</th>\n",
       "      <th>Time</th>\n",
       "    </tr>\n",
       "  </thead>\n",
       "  <tbody>\n",
       "    <tr>\n",
       "      <th>0</th>\n",
       "      <td>1</td>\n",
       "      <td>Backward</td>\n",
       "      <td>0.065581</td>\n",
       "      <td>0.737736</td>\n",
       "    </tr>\n",
       "    <tr>\n",
       "      <th>1</th>\n",
       "      <td>1</td>\n",
       "      <td>Forward</td>\n",
       "      <td>0.070265</td>\n",
       "      <td>0.938118</td>\n",
       "    </tr>\n",
       "    <tr>\n",
       "      <th>2</th>\n",
       "      <td>2</td>\n",
       "      <td>Backward</td>\n",
       "      <td>0.137592</td>\n",
       "      <td>0.735050</td>\n",
       "    </tr>\n",
       "    <tr>\n",
       "      <th>3</th>\n",
       "      <td>2</td>\n",
       "      <td>Forward</td>\n",
       "      <td>0.195490</td>\n",
       "      <td>1.388932</td>\n",
       "    </tr>\n",
       "    <tr>\n",
       "      <th>4</th>\n",
       "      <td>5</td>\n",
       "      <td>Backward</td>\n",
       "      <td>0.131820</td>\n",
       "      <td>0.768834</td>\n",
       "    </tr>\n",
       "    <tr>\n",
       "      <th>5</th>\n",
       "      <td>5</td>\n",
       "      <td>Forward</td>\n",
       "      <td>0.245338</td>\n",
       "      <td>2.589588</td>\n",
       "    </tr>\n",
       "    <tr>\n",
       "      <th>6</th>\n",
       "      <td>10</td>\n",
       "      <td>Backward</td>\n",
       "      <td>0.090468</td>\n",
       "      <td>0.870149</td>\n",
       "    </tr>\n",
       "    <tr>\n",
       "      <th>7</th>\n",
       "      <td>10</td>\n",
       "      <td>Forward</td>\n",
       "      <td>0.362323</td>\n",
       "      <td>5.236286</td>\n",
       "    </tr>\n",
       "    <tr>\n",
       "      <th>8</th>\n",
       "      <td>50</td>\n",
       "      <td>Backward</td>\n",
       "      <td>0.088423</td>\n",
       "      <td>0.829966</td>\n",
       "    </tr>\n",
       "    <tr>\n",
       "      <th>9</th>\n",
       "      <td>50</td>\n",
       "      <td>Forward</td>\n",
       "      <td>0.728319</td>\n",
       "      <td>23.466005</td>\n",
       "    </tr>\n",
       "    <tr>\n",
       "      <th>10</th>\n",
       "      <td>100</td>\n",
       "      <td>Backward</td>\n",
       "      <td>0.077967</td>\n",
       "      <td>0.768835</td>\n",
       "    </tr>\n",
       "    <tr>\n",
       "      <th>11</th>\n",
       "      <td>100</td>\n",
       "      <td>Forward</td>\n",
       "      <td>1.442932</td>\n",
       "      <td>68.830807</td>\n",
       "    </tr>\n",
       "    <tr>\n",
       "      <th>12</th>\n",
       "      <td>500</td>\n",
       "      <td>Backward</td>\n",
       "      <td>0.143089</td>\n",
       "      <td>0.826470</td>\n",
       "    </tr>\n",
       "    <tr>\n",
       "      <th>13</th>\n",
       "      <td>500</td>\n",
       "      <td>Forward</td>\n",
       "      <td>82.768288</td>\n",
       "      <td>254.958453</td>\n",
       "    </tr>\n",
       "  </tbody>\n",
       "</table>\n",
       "</div>"
      ],
      "text/plain": [
       "Qty    N      Type        Std        Time\n",
       "0      1  Backward   0.065581    0.737736\n",
       "1      1   Forward   0.070265    0.938118\n",
       "2      2  Backward   0.137592    0.735050\n",
       "3      2   Forward   0.195490    1.388932\n",
       "4      5  Backward   0.131820    0.768834\n",
       "5      5   Forward   0.245338    2.589588\n",
       "6     10  Backward   0.090468    0.870149\n",
       "7     10   Forward   0.362323    5.236286\n",
       "8     50  Backward   0.088423    0.829966\n",
       "9     50   Forward   0.728319   23.466005\n",
       "10   100  Backward   0.077967    0.768835\n",
       "11   100   Forward   1.442932   68.830807\n",
       "12   500  Backward   0.143089    0.826470\n",
       "13   500   Forward  82.768288  254.958453"
      ]
     },
     "execution_count": 183,
     "metadata": {},
     "output_type": "execute_result"
    }
   ],
   "source": [
    "df_long = data.melt(id_vars=['N'])\n",
    "df_long[['Qty', 'Type']] = df_long['variable'].str.split(\"_\", n=1, expand=True)\n",
    "df_wide = df_long.pivot_table(index=['N', 'Type'],\n",
    "                              columns='Qty', values='value').reset_index()\n",
    "df_wide"
   ]
  },
  {
   "cell_type": "code",
   "execution_count": 193,
   "metadata": {},
   "outputs": [
    {
     "data": {
      "image/png": "[encoded data removed]",
      "text/plain": [
       "<Figure size 432x288 with 1 Axes>"
      ]
     },
     "metadata": {},
     "output_type": "display_data"
    }
   ],
   "source": [
    "ax = sns.lineplot(x=\"N\", y=\"Time\",\n",
    "                hue=\"Type\", style=\"Type\",\n",
    "                markers=True, dashes=True, data=df_wide)\n",
    "\n",
    "ax.set(xlabel='Dimension Decision Spaces', ylabel='Time(s)', title = 'Time comparison')\n",
    "plt.savefig('time_comp.eps', format='eps', dpi = 1000)"
   ]
  },
  {
   "cell_type": "code",
   "execution_count": null,
   "metadata": {
    "collapsed": true
   },
   "outputs": [],
   "source": []
  }
 ],
 "metadata": {
  "kernelspec": {
   "display_name": "Python 3",
   "language": "python",
   "name": "python3"
  },
  "language_info": {
   "codemirror_mode": {
    "name": "ipython",
    "version": 3
   },
   "file_extension": ".py",
   "mimetype": "text/x-python",
   "name": "python",
   "nbconvert_exporter": "python",
   "pygments_lexer": "ipython3",
   "version": "3.6.3"
  }
 },
 "nbformat": 4,
 "nbformat_minor": 2
}
